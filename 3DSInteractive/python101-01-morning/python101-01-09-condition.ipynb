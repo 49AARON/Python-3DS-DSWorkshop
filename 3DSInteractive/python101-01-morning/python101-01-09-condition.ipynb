{
 "cells": [
  {
   "cell_type": "markdown",
   "metadata": {},
   "source": [
    "<h1><center> Machine Learning for Young Data Scientist with Python </center><h1/>\n",
    "<h3><center> \"CONDITION\" </center><h3/>\n",
    "\n",
    "\n",
    "<img src=\"images/courses.png\">"
   ]
  },
  {
   "cell_type": "code",
   "execution_count": 3,
   "metadata": {
    "collapsed": true
   },
   "outputs": [],
   "source": [
    "name = ''"
   ]
  },
  {
   "cell_type": "code",
   "execution_count": 4,
   "metadata": {},
   "outputs": [],
   "source": [
    "if name == 'ประหยัด':\n",
    "    print('สวสดี ประหยัด')"
   ]
  },
  {
   "cell_type": "code",
   "execution_count": 6,
   "metadata": {},
   "outputs": [
    {
     "name": "stdout",
     "output_type": "stream",
     "text": [
      "สวัสดี ประหยัด\n"
     ]
    }
   ],
   "source": [
    "if name == 'ประหยัด':\n",
    "    print('สวัสดี ประหยัด')\n",
    "else:\n",
    "    print('คุณชื่ออะไร !??')"
   ]
  },
  {
   "cell_type": "code",
   "execution_count": 7,
   "metadata": {},
   "outputs": [
    {
     "name": "stdout",
     "output_type": "stream",
     "text": [
      "สวัดสดี ประหยัด\n"
     ]
    }
   ],
   "source": [
    "if name == 'ประหยัด':\n",
    "    print('สวัดสดี ประหยัด')\n",
    "elif Job == 'นายก':\n",
    "    print('คุณชื่ออะไร !??')"
   ]
  },
  {
   "cell_type": "code",
   "execution_count": 5,
   "metadata": {
    "scrolled": true
   },
   "outputs": [
    {
     "name": "stdout",
     "output_type": "stream",
     "text": [
      "กรุณาใส่ชื่อของคุณครับ/ค่ะ.\n",
      "prayad\n",
      "กรุณาใส่ชื่อของคุณครับ/ค่ะ.\n",
      "prayut\n",
      "กรุณาใส่ชื่อของคุณครับ/ค่ะ.\n",
      "ประหยัด\n",
      "ลาก่อย!\n"
     ]
    }
   ],
   "source": [
    "while name != 'ประหยัด':\n",
    "    print('กรุณาใส่ชื่อของคุณครับ/ค่ะ.')\n",
    "    name = input()\n",
    "print('ลาก่อย!')"
   ]
  },
  {
   "cell_type": "code",
   "execution_count": 8,
   "metadata": {},
   "outputs": [
    {
     "name": "stdout",
     "output_type": "stream",
     "text": [
      "ฉันจะเลือกตั้งแล้วนะ (0)\n",
      "ฉันจะเลือกตั้งแล้วนะ (1)\n",
      "ฉันจะเลือกตั้งแล้วนะ (2)\n",
      "ฉันจะเลือกตั้งแล้วนะ (3)\n",
      "ฉันจะเลือกตั้งแล้วนะ (4)\n"
     ]
    }
   ],
   "source": [
    "for i in range(5):\n",
    "    print('ฉันจะเลือกตั้งแล้วนะ (' + str(i) + ')')"
   ]
  },
  {
   "cell_type": "code",
   "execution_count": null,
   "metadata": {
    "collapsed": true
   },
   "outputs": [],
   "source": []
  }
 ],
 "metadata": {
  "kernelspec": {
   "display_name": "Python 3",
   "language": "python",
   "name": "python3"
  },
  "language_info": {
   "codemirror_mode": {
    "name": "ipython",
    "version": 3
   },
   "file_extension": ".py",
   "mimetype": "text/x-python",
   "name": "python",
   "nbconvert_exporter": "python",
   "pygments_lexer": "ipython3",
   "version": "3.5.4"
  }
 },
 "nbformat": 4,
 "nbformat_minor": 2
}
