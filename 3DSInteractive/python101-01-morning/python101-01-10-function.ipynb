{
 "cells": [
  {
   "cell_type": "markdown",
   "metadata": {},
   "source": [
    "<h1><center> Machine Learning for Young Data Scientist with Python </center><h1/>\n",
    "<h3><center> \"FUNCTION\" </center><h3/>\n",
    "\n",
    "\n",
    "<img src=\"images/courses.png\">"
   ]
  },
  {
   "cell_type": "code",
   "execution_count": 1,
   "metadata": {
    "collapsed": true
   },
   "outputs": [],
   "source": [
    "def สุขล้น():\n",
    "    print('สวัสดีฉันมาจากโลกอนาคต!')\n",
    "    print('เราจะทำให้พวกเธอสนุก')\n",
    "    print('และมีความสุขจนล้นออกมา')"
   ]
  },
  {
   "cell_type": "code",
   "execution_count": 2,
   "metadata": {},
   "outputs": [
    {
     "name": "stdout",
     "output_type": "stream",
     "text": [
      "สวัสดีฉันมาจากโลกอนาคต!\n",
      "เราจะทำให้พวกเธอสนุก\n",
      "และมีความสุขจนล้นออกมา\n"
     ]
    }
   ],
   "source": [
    "สุขล้น()"
   ]
  },
  {
   "cell_type": "code",
   "execution_count": 5,
   "metadata": {},
   "outputs": [
    {
     "name": "stdout",
     "output_type": "stream",
     "text": [
      "แอบมองเธอว์อยู่นะจีะ\n"
     ]
    }
   ],
   "source": [
    "import random\n",
    "\n",
    "def คุกกี้เสี่ยงทาย(เสี่ยงทาย):\n",
    "\tif เสี่ยงทาย == 1:\n",
    "\t   return 'แอบมองเธอว์อยู่นะจีะ'\n",
    "\telif เสี่ยงทาย == 2:\n",
    "\t   return 'แต่เธอว์ไม่สนใจ'\n",
    "\telif เสี่ยงทาย == 3:\n",
    "\t   return 'แอบส่งใจให้นิดๆ'\n",
    "\telif เสี่ยงทาย == 4:\n",
    "\t   return 'แต่ดูเธอช่างเฉยเมย'\n",
    "\telif เสี่ยงทาย == 5:\n",
    "\t   return 'คนน่ารักก็เยอะนะ'\n",
    "\telif เสี่ยงทาย == 6:\n",
    "\t   return 'Yeah Yeah Yeah'\n",
    "\telif เสี่ยงทาย == 7:\n",
    "\t   return 'เหมือนว่าฉันนั้นเคว้งคว้าง'\n",
    "\telif เสี่ยงทาย == 8:\n",
    "\t   return 'รักไม่รักก็ต้องเสี่ยง'\n",
    "\telif เสี่ยงทาย == 9:\n",
    "\t   return 'อยากบอกเธอว่ารัก'\n",
    "\n",
    "r = random.randint(1, 9) \n",
    "fortune = คุกกี้เสี่ยงทาย(r)\n",
    "print(fortune)"
   ]
  },
  {
   "cell_type": "code",
   "execution_count": null,
   "metadata": {
    "collapsed": true
   },
   "outputs": [],
   "source": []
  }
 ],
 "metadata": {
  "kernelspec": {
   "display_name": "Python 3",
   "language": "python",
   "name": "python3"
  },
  "language_info": {
   "codemirror_mode": {
    "name": "ipython",
    "version": 3
   },
   "file_extension": ".py",
   "mimetype": "text/x-python",
   "name": "python",
   "nbconvert_exporter": "python",
   "pygments_lexer": "ipython3",
   "version": "3.5.4"
  }
 },
 "nbformat": 4,
 "nbformat_minor": 2
}
