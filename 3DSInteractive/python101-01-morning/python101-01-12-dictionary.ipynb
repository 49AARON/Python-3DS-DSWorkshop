{
 "cells": [
  {
   "cell_type": "markdown",
   "metadata": {},
   "source": [
    "<h1><center> Machine Learning for Young Data Scientist with Python </center><h1/>\n",
    "<h3><center> \"DICTIONARIES\" </center><h3/>\n",
    "\n",
    "\n",
    "<img src=\"images/courses.png\">"
   ]
  },
  {
   "cell_type": "markdown",
   "metadata": {},
   "source": [
    "# Dictionary"
   ]
  },
  {
   "cell_type": "code",
   "execution_count": 1,
   "metadata": {
    "collapsed": true
   },
   "outputs": [],
   "source": [
    "myList = {'อุ๋ง': 'อร', 'หลาม': 'ปัญ', 'กวิ้น': 'ไข่มุก'}"
   ]
  },
  {
   "cell_type": "code",
   "execution_count": 2,
   "metadata": {},
   "outputs": [
    {
     "data": {
      "text/plain": [
       "{'กวิ้น': 'ไข่มุก', 'หลาม': 'ปัญ', 'อุ๋ง': 'อร'}"
      ]
     },
     "execution_count": 2,
     "metadata": {},
     "output_type": "execute_result"
    }
   ],
   "source": [
    "myList"
   ]
  },
  {
   "cell_type": "code",
   "execution_count": 3,
   "metadata": {},
   "outputs": [
    {
     "data": {
      "text/plain": [
       "'อร'"
      ]
     },
     "execution_count": 3,
     "metadata": {},
     "output_type": "execute_result"
    }
   ],
   "source": [
    "myList['อุ๋ง']"
   ]
  },
  {
   "cell_type": "code",
   "execution_count": 4,
   "metadata": {},
   "outputs": [
    {
     "data": {
      "text/plain": [
       "'ปัญ'"
      ]
     },
     "execution_count": 4,
     "metadata": {},
     "output_type": "execute_result"
    }
   ],
   "source": [
    "myList['หลาม']"
   ]
  },
  {
   "cell_type": "code",
   "execution_count": 5,
   "metadata": {},
   "outputs": [
    {
     "data": {
      "text/plain": [
       "'ไข่มุก'"
      ]
     },
     "execution_count": 5,
     "metadata": {},
     "output_type": "execute_result"
    }
   ],
   "source": [
    "myList['กวิ้น']"
   ]
  },
  {
   "cell_type": "code",
   "execution_count": 6,
   "metadata": {},
   "outputs": [
    {
     "ename": "KeyError",
     "evalue": "'ไข่มุก'",
     "output_type": "error",
     "traceback": [
      "\u001b[0;31m---------------------------------------------------------------------------\u001b[0m",
      "\u001b[0;31mKeyError\u001b[0m                                  Traceback (most recent call last)",
      "\u001b[0;32m<ipython-input-6-fa486d1362f7>\u001b[0m in \u001b[0;36m<module>\u001b[0;34m()\u001b[0m\n\u001b[0;32m----> 1\u001b[0;31m \u001b[0mmyList\u001b[0m\u001b[0;34m[\u001b[0m\u001b[0;34m'ไข่มุก'\u001b[0m\u001b[0;34m]\u001b[0m\u001b[0;34m\u001b[0m\u001b[0m\n\u001b[0m",
      "\u001b[0;31mKeyError\u001b[0m: 'ไข่มุก'"
     ]
    }
   ],
   "source": [
    "myList['ไข่มุก']"
   ]
  },
  {
   "cell_type": "code",
   "execution_count": 7,
   "metadata": {
    "collapsed": true
   },
   "outputs": [],
   "source": [
    "yourList = {'กวิ้น': 'ไข่มุก', 'อุ๋ง': 'อร', 'หลาม': 'ปัญ'}"
   ]
  },
  {
   "cell_type": "markdown",
   "metadata": {},
   "source": [
    "## Dict List Comparison"
   ]
  },
  {
   "cell_type": "code",
   "execution_count": 8,
   "metadata": {},
   "outputs": [
    {
     "data": {
      "text/plain": [
       "True"
      ]
     },
     "execution_count": 8,
     "metadata": {},
     "output_type": "execute_result"
    }
   ],
   "source": [
    "myList == yourList"
   ]
  },
  {
   "cell_type": "code",
   "execution_count": 9,
   "metadata": {
    "collapsed": true
   },
   "outputs": [],
   "source": [
    "myList2 = ['อร','ปัญ','ไข่มุก']"
   ]
  },
  {
   "cell_type": "code",
   "execution_count": 10,
   "metadata": {
    "collapsed": true
   },
   "outputs": [],
   "source": [
    "yourList2 = ['ปัญ','ไข่มุก','อร']"
   ]
  },
  {
   "cell_type": "code",
   "execution_count": 11,
   "metadata": {},
   "outputs": [
    {
     "data": {
      "text/plain": [
       "False"
      ]
     },
     "execution_count": 11,
     "metadata": {},
     "output_type": "execute_result"
    }
   ],
   "source": [
    "myList2 == yourList2"
   ]
  },
  {
   "cell_type": "markdown",
   "metadata": {},
   "source": [
    "## The keys(), values(), and items() Methods"
   ]
  },
  {
   "cell_type": "code",
   "execution_count": 12,
   "metadata": {},
   "outputs": [
    {
     "name": "stdout",
     "output_type": "stream",
     "text": [
      "อร\n",
      "ไข่มุก\n",
      "ปัญ\n"
     ]
    }
   ],
   "source": [
    "for v in myList.values():\n",
    "    print(v)"
   ]
  },
  {
   "cell_type": "code",
   "execution_count": 13,
   "metadata": {},
   "outputs": [
    {
     "name": "stdout",
     "output_type": "stream",
     "text": [
      "อุ๋ง\n",
      "กวิ้น\n",
      "หลาม\n"
     ]
    }
   ],
   "source": [
    "for k in myList.keys(): \n",
    "    print(k)"
   ]
  },
  {
   "cell_type": "code",
   "execution_count": 14,
   "metadata": {},
   "outputs": [
    {
     "name": "stdout",
     "output_type": "stream",
     "text": [
      "('อุ๋ง', 'อร')\n",
      "('กวิ้น', 'ไข่มุก')\n",
      "('หลาม', 'ปัญ')\n"
     ]
    }
   ],
   "source": [
    "for i in myList.items():\n",
    "    print(i)"
   ]
  },
  {
   "cell_type": "markdown",
   "metadata": {},
   "source": [
    "## Convert to List"
   ]
  },
  {
   "cell_type": "code",
   "execution_count": 15,
   "metadata": {},
   "outputs": [
    {
     "data": {
      "text/plain": [
       "['อุ๋ง', 'กวิ้น', 'หลาม']"
      ]
     },
     "execution_count": 15,
     "metadata": {},
     "output_type": "execute_result"
    }
   ],
   "source": [
    "list(myList.keys())"
   ]
  },
  {
   "cell_type": "markdown",
   "metadata": {},
   "source": [
    "## Checking Whether a Key or Value Exists in a Dictionary"
   ]
  },
  {
   "cell_type": "code",
   "execution_count": 16,
   "metadata": {},
   "outputs": [
    {
     "data": {
      "text/plain": [
       "True"
      ]
     },
     "execution_count": 16,
     "metadata": {},
     "output_type": "execute_result"
    }
   ],
   "source": [
    "'อุ๋ง' in myList.keys()"
   ]
  },
  {
   "cell_type": "code",
   "execution_count": 17,
   "metadata": {},
   "outputs": [
    {
     "data": {
      "text/plain": [
       "False"
      ]
     },
     "execution_count": 17,
     "metadata": {},
     "output_type": "execute_result"
    }
   ],
   "source": [
    "'กุหลาบไฟ' in myList.keys()"
   ]
  },
  {
   "cell_type": "code",
   "execution_count": 19,
   "metadata": {},
   "outputs": [
    {
     "data": {
      "text/plain": [
       "True"
      ]
     },
     "execution_count": 19,
     "metadata": {},
     "output_type": "execute_result"
    }
   ],
   "source": [
    "'ไข่มุก' in myList.values()"
   ]
  },
  {
   "cell_type": "code",
   "execution_count": 20,
   "metadata": {},
   "outputs": [
    {
     "data": {
      "text/plain": [
       "False"
      ]
     },
     "execution_count": 20,
     "metadata": {},
     "output_type": "execute_result"
    }
   ],
   "source": [
    "'prayad' in myList.values()"
   ]
  },
  {
   "cell_type": "markdown",
   "metadata": {},
   "source": [
    "## The get() Method"
   ]
  },
  {
   "cell_type": "code",
   "execution_count": 21,
   "metadata": {
    "collapsed": true
   },
   "outputs": [],
   "source": [
    "พักผ่อนหน้าร้อน = {'ทุเรียน': 5, 'มะระ': 2}"
   ]
  },
  {
   "cell_type": "code",
   "execution_count": 25,
   "metadata": {},
   "outputs": [
    {
     "data": {
      "text/plain": [
       "'พักร้อนแบบนี้ต้องนำ ทุเรียนมากิน 5 ลูก'"
      ]
     },
     "execution_count": 25,
     "metadata": {},
     "output_type": "execute_result"
    }
   ],
   "source": [
    "'พักร้อนแบบนี้ต้องนำ ' + 'ทุเรียนมากิน ' + str(พักผ่อนหน้าร้อน.get('ทุเรียน', 0)) + ' ลูก'"
   ]
  },
  {
   "cell_type": "code",
   "execution_count": 28,
   "metadata": {},
   "outputs": [
    {
     "data": {
      "text/plain": [
       "'ว่าแต่เราจะนำ มะระมาทำไมตั้ง 2 ลูก'"
      ]
     },
     "execution_count": 28,
     "metadata": {},
     "output_type": "execute_result"
    }
   ],
   "source": [
    "'ว่าแต่เราจะนำ ' + 'มะระมาทำไมตั้ง ' + str(พักผ่อนหน้าร้อน.get('มะระ', 0)) + ' ลูก'"
   ]
  },
  {
   "cell_type": "markdown",
   "metadata": {},
   "source": [
    "## Word Count"
   ]
  },
  {
   "cell_type": "code",
   "execution_count": 31,
   "metadata": {},
   "outputs": [
    {
     "name": "stdout",
     "output_type": "stream",
     "text": [
      "{'ธ': 3, 'ใ': 3, 'ม': 5, 'ย': 8, 'บ': 3, ' ': 2, 'ห': 3, 'ะ': 4, 'ง': 6, 'ด': 2, 'ส': 2, 'ั': 3, 'แ': 4, 'ี': 2, '\\n': 6, 'น': 5, 'a': 3, 'Y': 3, '๊': 1, 'จ': 4, 'ิ': 1, 'ฉ': 1, 'ช': 1, 'ู': 3, 'า': 3, 'ว': 2, 'เ': 9, 'e': 3, 'ๆ': 1, 'ร': 2, 'อ': 11, '้': 6, 'ต': 4, 'ล': 2, 'ไ': 2, 'h': 3, '่': 9, 'ก': 2}\n"
     ]
    }
   ],
   "source": [
    "message = \"\"\"แอบมองเธออยู่นะจ๊ะ\n",
    "แต่เธอไม่รู้บ้างเลย\n",
    "แอบส่งใจให้นิดๆ\n",
    "แต่ดูเธอช่างเฉยเมย\n",
    "เอาล่ะเตรียมใจไว้หน่อย\n",
    "มันจะหัวก้อยต้องเสี่ยงกัน\n",
    "Yeah Yeah Yeah\"\"\"\n",
    "\n",
    "count = {}\n",
    "\n",
    "for character in message:\n",
    "    count.setdefault(character, 0)\n",
    "    count[character] = count[character] + 1\n",
    "    \n",
    "print(count)"
   ]
  },
  {
   "cell_type": "markdown",
   "metadata": {},
   "source": [
    "## Use Pretty Printing"
   ]
  },
  {
   "cell_type": "code",
   "execution_count": 32,
   "metadata": {
    "collapsed": true
   },
   "outputs": [],
   "source": [
    "import pprint"
   ]
  },
  {
   "cell_type": "code",
   "execution_count": 34,
   "metadata": {},
   "outputs": [
    {
     "name": "stdout",
     "output_type": "stream",
     "text": [
      "{'\\n': 6,\n",
      " ' ': 2,\n",
      " 'Y': 3,\n",
      " 'a': 3,\n",
      " 'e': 3,\n",
      " 'h': 3,\n",
      " 'ก': 2,\n",
      " 'ง': 6,\n",
      " 'จ': 4,\n",
      " 'ฉ': 1,\n",
      " 'ช': 1,\n",
      " 'ด': 2,\n",
      " 'ต': 4,\n",
      " 'ธ': 3,\n",
      " 'น': 5,\n",
      " 'บ': 3,\n",
      " 'ม': 5,\n",
      " 'ย': 8,\n",
      " 'ร': 2,\n",
      " 'ล': 2,\n",
      " 'ว': 2,\n",
      " 'ส': 2,\n",
      " 'ห': 3,\n",
      " 'อ': 11,\n",
      " 'ะ': 4,\n",
      " 'ั': 3,\n",
      " 'า': 3,\n",
      " 'ิ': 1,\n",
      " 'ี': 2,\n",
      " 'ู': 3,\n",
      " 'เ': 9,\n",
      " 'แ': 4,\n",
      " 'ใ': 3,\n",
      " 'ไ': 2,\n",
      " 'ๆ': 1,\n",
      " '่': 9,\n",
      " '้': 6,\n",
      " '๊': 1}\n"
     ]
    }
   ],
   "source": [
    "pprint.pprint(count)"
   ]
  },
  {
   "cell_type": "code",
   "execution_count": null,
   "metadata": {
    "collapsed": true
   },
   "outputs": [],
   "source": []
  }
 ],
 "metadata": {
  "kernelspec": {
   "display_name": "Python 3",
   "language": "python",
   "name": "python3"
  },
  "language_info": {
   "codemirror_mode": {
    "name": "ipython",
    "version": 3
   },
   "file_extension": ".py",
   "mimetype": "text/x-python",
   "name": "python",
   "nbconvert_exporter": "python",
   "pygments_lexer": "ipython3",
   "version": "3.5.5"
  }
 },
 "nbformat": 4,
 "nbformat_minor": 2
}
