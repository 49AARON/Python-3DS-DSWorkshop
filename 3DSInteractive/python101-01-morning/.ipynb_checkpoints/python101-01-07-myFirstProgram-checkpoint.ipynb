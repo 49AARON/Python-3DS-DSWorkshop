{
 "cells": [
  {
   "cell_type": "markdown",
   "metadata": {},
   "source": [
    "<h1><center> Machine Learning for Young Data Scientist with Python </center><h1/>\n",
    "<h3><center> \"MY FIRST PROGRAM\" </center><h3/>\n",
    "\n",
    "\n",
    "<img src=\"images/courses.png\">"
   ]
  },
  {
   "cell_type": "code",
   "execution_count": 2,
   "metadata": {
    "scrolled": true
   },
   "outputs": [
    {
     "name": "stdout",
     "output_type": "stream",
     "text": [
      "สวัสดีครับ...\n",
      "คุณชื่ออะไรเอ่ย ?\n",
      "ประหยัด\n",
      "ยินดีที่ได้รู้จักคุณ, ประหยัด ครับ\n",
      "ความยาวของชื่อคุณมีขนาด: \n",
      "7\n",
      "ตอนนี้อายุคุณเท่าไหร่แล้วเอ่ย ?\n",
      "60\n",
      "อายุคุณจะ 61 ในปีนี้ ถ้าคุณยังไม่ถึงวันเกิดมาก่อนในปีเสียก่อนนะ !!\n"
     ]
    }
   ],
   "source": [
    "# โปรแกรมโต้ตอบ Ruled Chat bot\n",
    "\n",
    "print('สวัสดีครับ...')\n",
    "print('คุณชื่ออะไรเอ่ย ?') # โปรแกรมโต้ตอบถามชื่อเรา\n",
    "\n",
    "myName = input() # ใส่ชื่อเราเอง\n",
    "\n",
    "print('ยินดีที่ได้รู้จักคุณ, ' + myName + ' ครับ')\n",
    "print('ความยาวของชื่อคุณมีขนาด: ')\n",
    "print(len(myName))\n",
    "print('ตอนนี้อายุคุณเท่าไหร่แล้วเอ่ย ?') # โปรแกรมถามอายุคุณ\n",
    "\n",
    "myAge = input()\n",
    "\n",
    "print('อายุคุณจะ ' + str(int(myAge) + 1) + ' ในปีนี้ ถ้าคุณยังไม่ถึงวันเกิดมาก่อนในปีเสียก่อนนะ !!')"
   ]
  },
  {
   "cell_type": "code",
   "execution_count": null,
   "metadata": {
    "collapsed": true
   },
   "outputs": [],
   "source": []
  }
 ],
 "metadata": {
  "kernelspec": {
   "display_name": "Python 3",
   "language": "python",
   "name": "python3"
  },
  "language_info": {
   "codemirror_mode": {
    "name": "ipython",
    "version": 3
   },
   "file_extension": ".py",
   "mimetype": "text/x-python",
   "name": "python",
   "nbconvert_exporter": "python",
   "pygments_lexer": "ipython3",
   "version": "3.5.4"
  }
 },
 "nbformat": 4,
 "nbformat_minor": 2
}
